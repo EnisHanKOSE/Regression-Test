{
 "cells": [
  {
   "cell_type": "code",
   "execution_count": 1,
   "metadata": {},
   "outputs": [],
   "source": [
    "import pandas as pd\n",
    "import numpy as np\n",
    "import missingno as msno\n",
    "import seaborn as sns\n",
    "import matplotlib.pyplot as plt\n",
    "import plotly.graph_objs as go\n",
    "import plotly.offline as py\n",
    "import warnings\n",
    "import scipy\n",
    "from sklearn.model_selection import train_test_split, RandomizedSearchCV, RepeatedStratifiedKFold\n",
    "from sklearn.ensemble import RandomForestClassifier\n",
    "from sklearn.metrics import accuracy_score, roc_curve, roc_auc_score\n",
    "from sklearn.feature_selection import RFE\n",
    "from xgboost import XGBClassifier\n",
    "import joblib\n",
    "from sklearn.pipeline import Pipeline\n",
    "from sklearn.preprocessing import LabelEncoder\n",
    "from sklearn.preprocessing import OneHotEncoder\n",
    "from sklearn.compose import make_column_transformer, ColumnTransformer\n",
    "warnings.filterwarnings('ignore')"
   ]
  },
  {
   "cell_type": "code",
   "execution_count": 2,
   "metadata": {},
   "outputs": [
    {
     "data": {
      "text/html": [
       "<div>\n",
       "<style scoped>\n",
       "    .dataframe tbody tr th:only-of-type {\n",
       "        vertical-align: middle;\n",
       "    }\n",
       "\n",
       "    .dataframe tbody tr th {\n",
       "        vertical-align: top;\n",
       "    }\n",
       "\n",
       "    .dataframe thead th {\n",
       "        text-align: right;\n",
       "    }\n",
       "</style>\n",
       "<table border=\"1\" class=\"dataframe\">\n",
       "  <thead>\n",
       "    <tr style=\"text-align: right;\">\n",
       "      <th></th>\n",
       "      <th>uuid</th>\n",
       "      <th>default</th>\n",
       "      <th>account_amount_added_12_24m</th>\n",
       "      <th>account_days_in_dc_12_24m</th>\n",
       "      <th>account_days_in_rem_12_24m</th>\n",
       "      <th>account_days_in_term_12_24m</th>\n",
       "      <th>account_incoming_debt_vs_paid_0_24m</th>\n",
       "      <th>account_status</th>\n",
       "      <th>account_worst_status_0_3m</th>\n",
       "      <th>account_worst_status_12_24m</th>\n",
       "      <th>...</th>\n",
       "      <th>status_3rd_last_archived_0_24m</th>\n",
       "      <th>status_max_archived_0_6_months</th>\n",
       "      <th>status_max_archived_0_12_months</th>\n",
       "      <th>status_max_archived_0_24_months</th>\n",
       "      <th>recovery_debt</th>\n",
       "      <th>sum_capital_paid_account_0_12m</th>\n",
       "      <th>sum_capital_paid_account_12_24m</th>\n",
       "      <th>sum_paid_inv_0_12m</th>\n",
       "      <th>time_hours</th>\n",
       "      <th>worst_status_active_inv</th>\n",
       "    </tr>\n",
       "  </thead>\n",
       "  <tbody>\n",
       "    <tr>\n",
       "      <th>0</th>\n",
       "      <td>63f69b2c-8b1c-4740-b78d-52ed9a4515ac</td>\n",
       "      <td>0.0</td>\n",
       "      <td>0</td>\n",
       "      <td>0.0</td>\n",
       "      <td>0.0</td>\n",
       "      <td>0.0</td>\n",
       "      <td>0.0</td>\n",
       "      <td>1.0</td>\n",
       "      <td>1.0</td>\n",
       "      <td>NaN</td>\n",
       "      <td>...</td>\n",
       "      <td>1</td>\n",
       "      <td>1</td>\n",
       "      <td>1</td>\n",
       "      <td>1</td>\n",
       "      <td>0</td>\n",
       "      <td>0</td>\n",
       "      <td>0</td>\n",
       "      <td>178839</td>\n",
       "      <td>9.653333</td>\n",
       "      <td>1.0</td>\n",
       "    </tr>\n",
       "    <tr>\n",
       "      <th>1</th>\n",
       "      <td>0e961183-8c15-4470-9a5e-07a1bd207661</td>\n",
       "      <td>0.0</td>\n",
       "      <td>0</td>\n",
       "      <td>0.0</td>\n",
       "      <td>0.0</td>\n",
       "      <td>0.0</td>\n",
       "      <td>NaN</td>\n",
       "      <td>1.0</td>\n",
       "      <td>1.0</td>\n",
       "      <td>1.0</td>\n",
       "      <td>...</td>\n",
       "      <td>1</td>\n",
       "      <td>1</td>\n",
       "      <td>2</td>\n",
       "      <td>2</td>\n",
       "      <td>0</td>\n",
       "      <td>0</td>\n",
       "      <td>0</td>\n",
       "      <td>49014</td>\n",
       "      <td>13.181389</td>\n",
       "      <td>NaN</td>\n",
       "    </tr>\n",
       "    <tr>\n",
       "      <th>2</th>\n",
       "      <td>d8edaae6-4368-44e0-941e-8328f203e64e</td>\n",
       "      <td>0.0</td>\n",
       "      <td>0</td>\n",
       "      <td>0.0</td>\n",
       "      <td>0.0</td>\n",
       "      <td>0.0</td>\n",
       "      <td>NaN</td>\n",
       "      <td>NaN</td>\n",
       "      <td>NaN</td>\n",
       "      <td>NaN</td>\n",
       "      <td>...</td>\n",
       "      <td>1</td>\n",
       "      <td>1</td>\n",
       "      <td>2</td>\n",
       "      <td>2</td>\n",
       "      <td>0</td>\n",
       "      <td>0</td>\n",
       "      <td>0</td>\n",
       "      <td>124839</td>\n",
       "      <td>11.561944</td>\n",
       "      <td>1.0</td>\n",
       "    </tr>\n",
       "    <tr>\n",
       "      <th>3</th>\n",
       "      <td>0095dfb6-a886-4e2a-b056-15ef45fdb0ef</td>\n",
       "      <td>0.0</td>\n",
       "      <td>0</td>\n",
       "      <td>NaN</td>\n",
       "      <td>NaN</td>\n",
       "      <td>NaN</td>\n",
       "      <td>NaN</td>\n",
       "      <td>NaN</td>\n",
       "      <td>NaN</td>\n",
       "      <td>NaN</td>\n",
       "      <td>...</td>\n",
       "      <td>1</td>\n",
       "      <td>1</td>\n",
       "      <td>1</td>\n",
       "      <td>1</td>\n",
       "      <td>0</td>\n",
       "      <td>0</td>\n",
       "      <td>0</td>\n",
       "      <td>324676</td>\n",
       "      <td>15.751111</td>\n",
       "      <td>1.0</td>\n",
       "    </tr>\n",
       "    <tr>\n",
       "      <th>4</th>\n",
       "      <td>c8f8b835-5647-4506-bf15-49105d8af30b</td>\n",
       "      <td>0.0</td>\n",
       "      <td>0</td>\n",
       "      <td>0.0</td>\n",
       "      <td>0.0</td>\n",
       "      <td>0.0</td>\n",
       "      <td>NaN</td>\n",
       "      <td>NaN</td>\n",
       "      <td>NaN</td>\n",
       "      <td>NaN</td>\n",
       "      <td>...</td>\n",
       "      <td>0</td>\n",
       "      <td>1</td>\n",
       "      <td>1</td>\n",
       "      <td>1</td>\n",
       "      <td>0</td>\n",
       "      <td>0</td>\n",
       "      <td>0</td>\n",
       "      <td>7100</td>\n",
       "      <td>12.698611</td>\n",
       "      <td>NaN</td>\n",
       "    </tr>\n",
       "  </tbody>\n",
       "</table>\n",
       "<p>5 rows × 43 columns</p>\n",
       "</div>"
      ],
      "text/plain": [
       "                                   uuid  default  account_amount_added_12_24m  \\\n",
       "0  63f69b2c-8b1c-4740-b78d-52ed9a4515ac      0.0                            0   \n",
       "1  0e961183-8c15-4470-9a5e-07a1bd207661      0.0                            0   \n",
       "2  d8edaae6-4368-44e0-941e-8328f203e64e      0.0                            0   \n",
       "3  0095dfb6-a886-4e2a-b056-15ef45fdb0ef      0.0                            0   \n",
       "4  c8f8b835-5647-4506-bf15-49105d8af30b      0.0                            0   \n",
       "\n",
       "   account_days_in_dc_12_24m  account_days_in_rem_12_24m  \\\n",
       "0                        0.0                         0.0   \n",
       "1                        0.0                         0.0   \n",
       "2                        0.0                         0.0   \n",
       "3                        NaN                         NaN   \n",
       "4                        0.0                         0.0   \n",
       "\n",
       "   account_days_in_term_12_24m  account_incoming_debt_vs_paid_0_24m  \\\n",
       "0                          0.0                                  0.0   \n",
       "1                          0.0                                  NaN   \n",
       "2                          0.0                                  NaN   \n",
       "3                          NaN                                  NaN   \n",
       "4                          0.0                                  NaN   \n",
       "\n",
       "   account_status  account_worst_status_0_3m  account_worst_status_12_24m  \\\n",
       "0             1.0                        1.0                          NaN   \n",
       "1             1.0                        1.0                          1.0   \n",
       "2             NaN                        NaN                          NaN   \n",
       "3             NaN                        NaN                          NaN   \n",
       "4             NaN                        NaN                          NaN   \n",
       "\n",
       "   ...  status_3rd_last_archived_0_24m  status_max_archived_0_6_months  \\\n",
       "0  ...                               1                               1   \n",
       "1  ...                               1                               1   \n",
       "2  ...                               1                               1   \n",
       "3  ...                               1                               1   \n",
       "4  ...                               0                               1   \n",
       "\n",
       "   status_max_archived_0_12_months  status_max_archived_0_24_months  \\\n",
       "0                                1                                1   \n",
       "1                                2                                2   \n",
       "2                                2                                2   \n",
       "3                                1                                1   \n",
       "4                                1                                1   \n",
       "\n",
       "   recovery_debt sum_capital_paid_account_0_12m  \\\n",
       "0              0                              0   \n",
       "1              0                              0   \n",
       "2              0                              0   \n",
       "3              0                              0   \n",
       "4              0                              0   \n",
       "\n",
       "  sum_capital_paid_account_12_24m  sum_paid_inv_0_12m  time_hours  \\\n",
       "0                               0              178839    9.653333   \n",
       "1                               0               49014   13.181389   \n",
       "2                               0              124839   11.561944   \n",
       "3                               0              324676   15.751111   \n",
       "4                               0                7100   12.698611   \n",
       "\n",
       "   worst_status_active_inv  \n",
       "0                      1.0  \n",
       "1                      NaN  \n",
       "2                      1.0  \n",
       "3                      1.0  \n",
       "4                      NaN  \n",
       "\n",
       "[5 rows x 43 columns]"
      ]
     },
     "execution_count": 2,
     "metadata": {},
     "output_type": "execute_result"
    }
   ],
   "source": [
    "file = \"dataset.csv\"\n",
    "dfb = pd.read_csv(file, delimiter = \";\")\n",
    "dfb.head()"
   ]
  },
  {
   "cell_type": "code",
   "execution_count": 3,
   "metadata": {},
   "outputs": [
    {
     "data": {
      "text/plain": [
       "(99976, 43)"
      ]
     },
     "execution_count": 3,
     "metadata": {},
     "output_type": "execute_result"
    }
   ],
   "source": [
    "dfb.shape"
   ]
  },
  {
   "cell_type": "code",
   "execution_count": 4,
   "metadata": {},
   "outputs": [
    {
     "name": "stdout",
     "output_type": "stream",
     "text": [
      "25 16 1\n"
     ]
    }
   ],
   "source": [
    "num_columns = [\"account_amount_added_12_24m\",\"account_days_in_dc_12_24m\",\"account_days_in_rem_12_24m\",\"account_days_in_term_12_24m\",\"account_incoming_debt_vs_paid_0_24m\"\n",
    ",\"age\",\"avg_payment_span_0_12m\",\"avg_payment_span_0_3m\",\"max_paid_inv_0_12m\",\"max_paid_inv_0_24m\",\"num_active_div_by_paid_inv_0_12m\",\"num_active_inv\",\"num_arch_dc_0_12m\"\n",
    ",\"num_arch_dc_12_24m\",\"num_arch_ok_0_12m\",\"num_arch_ok_12_24m\",\"num_arch_rem_0_12m\",\"num_arch_written_off_0_12m\",\"num_arch_written_off_12_24m\",\"num_unpaid_bills\"\n",
    ",\"recovery_debt\",\"sum_capital_paid_account_0_12m\",\"sum_capital_paid_account_12_24m\",\"sum_paid_inv_0_12m\",\"time_hours\"]\n",
    "\n",
    "cat_columns = [\"default\",\"account_status\",\"account_worst_status_0_3m\",\"account_worst_status_12_24m\",\"account_worst_status_3_6m\",\"account_worst_status_6_12m\"\n",
    ",\"merchant_category\",\"merchant_group\",\"name_in_email\",\"status_last_archived_0_24m\",\"status_2nd_last_archived_0_24m\",\"status_3rd_last_archived_0_24m\"\n",
    ",\"status_max_archived_0_6_months\",\"status_max_archived_0_12_months\",\"status_max_archived_0_24_months\",\"worst_status_active_inv\"]\n",
    "\n",
    "bool_columns = [\"has_paid\"]\n",
    "\n",
    "print(len(num_columns),len(cat_columns), len(bool_columns))"
   ]
  },
  {
   "cell_type": "code",
   "execution_count": 5,
   "metadata": {},
   "outputs": [
    {
     "data": {
      "text/html": [
       "<div>\n",
       "<style scoped>\n",
       "    .dataframe tbody tr th:only-of-type {\n",
       "        vertical-align: middle;\n",
       "    }\n",
       "\n",
       "    .dataframe tbody tr th {\n",
       "        vertical-align: top;\n",
       "    }\n",
       "\n",
       "    .dataframe thead th {\n",
       "        text-align: right;\n",
       "    }\n",
       "</style>\n",
       "<table border=\"1\" class=\"dataframe\">\n",
       "  <thead>\n",
       "    <tr style=\"text-align: right;\">\n",
       "      <th></th>\n",
       "      <th>count</th>\n",
       "      <th>mean</th>\n",
       "      <th>std</th>\n",
       "      <th>min</th>\n",
       "      <th>25%</th>\n",
       "      <th>50%</th>\n",
       "      <th>75%</th>\n",
       "      <th>max</th>\n",
       "    </tr>\n",
       "  </thead>\n",
       "  <tbody>\n",
       "    <tr>\n",
       "      <th>account_amount_added_12_24m</th>\n",
       "      <td>99976.0</td>\n",
       "      <td>12255.149516</td>\n",
       "      <td>35481.483737</td>\n",
       "      <td>0.000000</td>\n",
       "      <td>0.000000</td>\n",
       "      <td>0.000000</td>\n",
       "      <td>4937.250000</td>\n",
       "      <td>1.128775e+06</td>\n",
       "    </tr>\n",
       "    <tr>\n",
       "      <th>account_days_in_dc_12_24m</th>\n",
       "      <td>88140.0</td>\n",
       "      <td>0.223043</td>\n",
       "      <td>5.808117</td>\n",
       "      <td>0.000000</td>\n",
       "      <td>0.000000</td>\n",
       "      <td>0.000000</td>\n",
       "      <td>0.000000</td>\n",
       "      <td>3.650000e+02</td>\n",
       "    </tr>\n",
       "    <tr>\n",
       "      <th>account_days_in_rem_12_24m</th>\n",
       "      <td>88140.0</td>\n",
       "      <td>5.044622</td>\n",
       "      <td>22.863971</td>\n",
       "      <td>0.000000</td>\n",
       "      <td>0.000000</td>\n",
       "      <td>0.000000</td>\n",
       "      <td>0.000000</td>\n",
       "      <td>3.650000e+02</td>\n",
       "    </tr>\n",
       "    <tr>\n",
       "      <th>account_days_in_term_12_24m</th>\n",
       "      <td>88140.0</td>\n",
       "      <td>0.286896</td>\n",
       "      <td>2.929910</td>\n",
       "      <td>0.000000</td>\n",
       "      <td>0.000000</td>\n",
       "      <td>0.000000</td>\n",
       "      <td>0.000000</td>\n",
       "      <td>9.700000e+01</td>\n",
       "    </tr>\n",
       "    <tr>\n",
       "      <th>account_incoming_debt_vs_paid_0_24m</th>\n",
       "      <td>40661.0</td>\n",
       "      <td>1.331292</td>\n",
       "      <td>26.482299</td>\n",
       "      <td>0.000000</td>\n",
       "      <td>0.000000</td>\n",
       "      <td>0.152082</td>\n",
       "      <td>0.662952</td>\n",
       "      <td>3.914000e+03</td>\n",
       "    </tr>\n",
       "    <tr>\n",
       "      <th>age</th>\n",
       "      <td>99976.0</td>\n",
       "      <td>36.016284</td>\n",
       "      <td>13.001306</td>\n",
       "      <td>18.000000</td>\n",
       "      <td>25.000000</td>\n",
       "      <td>34.000000</td>\n",
       "      <td>45.000000</td>\n",
       "      <td>1.000000e+02</td>\n",
       "    </tr>\n",
       "    <tr>\n",
       "      <th>avg_payment_span_0_12m</th>\n",
       "      <td>76140.0</td>\n",
       "      <td>17.971473</td>\n",
       "      <td>12.751066</td>\n",
       "      <td>0.000000</td>\n",
       "      <td>10.800000</td>\n",
       "      <td>14.909091</td>\n",
       "      <td>21.000000</td>\n",
       "      <td>2.600000e+02</td>\n",
       "    </tr>\n",
       "    <tr>\n",
       "      <th>avg_payment_span_0_3m</th>\n",
       "      <td>50671.0</td>\n",
       "      <td>14.989786</td>\n",
       "      <td>10.297420</td>\n",
       "      <td>0.000000</td>\n",
       "      <td>8.400000</td>\n",
       "      <td>13.000000</td>\n",
       "      <td>18.285714</td>\n",
       "      <td>8.700000e+01</td>\n",
       "    </tr>\n",
       "    <tr>\n",
       "      <th>max_paid_inv_0_12m</th>\n",
       "      <td>99976.0</td>\n",
       "      <td>9203.654217</td>\n",
       "      <td>13512.167229</td>\n",
       "      <td>0.000000</td>\n",
       "      <td>2000.000000</td>\n",
       "      <td>6052.000000</td>\n",
       "      <td>11380.000000</td>\n",
       "      <td>2.790000e+05</td>\n",
       "    </tr>\n",
       "    <tr>\n",
       "      <th>max_paid_inv_0_24m</th>\n",
       "      <td>99976.0</td>\n",
       "      <td>11215.120819</td>\n",
       "      <td>15256.414937</td>\n",
       "      <td>0.000000</td>\n",
       "      <td>3350.000000</td>\n",
       "      <td>7580.000000</td>\n",
       "      <td>13783.000000</td>\n",
       "      <td>5.385000e+05</td>\n",
       "    </tr>\n",
       "    <tr>\n",
       "      <th>num_active_div_by_paid_inv_0_12m</th>\n",
       "      <td>77037.0</td>\n",
       "      <td>0.114840</td>\n",
       "      <td>0.293483</td>\n",
       "      <td>0.000000</td>\n",
       "      <td>0.000000</td>\n",
       "      <td>0.000000</td>\n",
       "      <td>0.100000</td>\n",
       "      <td>9.000000e+00</td>\n",
       "    </tr>\n",
       "    <tr>\n",
       "      <th>num_active_inv</th>\n",
       "      <td>99976.0</td>\n",
       "      <td>0.599404</td>\n",
       "      <td>1.550026</td>\n",
       "      <td>0.000000</td>\n",
       "      <td>0.000000</td>\n",
       "      <td>0.000000</td>\n",
       "      <td>1.000000</td>\n",
       "      <td>4.700000e+01</td>\n",
       "    </tr>\n",
       "    <tr>\n",
       "      <th>num_arch_dc_0_12m</th>\n",
       "      <td>99976.0</td>\n",
       "      <td>0.061745</td>\n",
       "      <td>0.374691</td>\n",
       "      <td>0.000000</td>\n",
       "      <td>0.000000</td>\n",
       "      <td>0.000000</td>\n",
       "      <td>0.000000</td>\n",
       "      <td>1.700000e+01</td>\n",
       "    </tr>\n",
       "    <tr>\n",
       "      <th>num_arch_dc_12_24m</th>\n",
       "      <td>99976.0</td>\n",
       "      <td>0.059364</td>\n",
       "      <td>0.366224</td>\n",
       "      <td>0.000000</td>\n",
       "      <td>0.000000</td>\n",
       "      <td>0.000000</td>\n",
       "      <td>0.000000</td>\n",
       "      <td>1.300000e+01</td>\n",
       "    </tr>\n",
       "    <tr>\n",
       "      <th>num_arch_ok_0_12m</th>\n",
       "      <td>99976.0</td>\n",
       "      <td>7.275826</td>\n",
       "      <td>16.030369</td>\n",
       "      <td>0.000000</td>\n",
       "      <td>0.000000</td>\n",
       "      <td>2.000000</td>\n",
       "      <td>7.000000</td>\n",
       "      <td>2.610000e+02</td>\n",
       "    </tr>\n",
       "    <tr>\n",
       "      <th>num_arch_ok_12_24m</th>\n",
       "      <td>99976.0</td>\n",
       "      <td>6.369799</td>\n",
       "      <td>15.350244</td>\n",
       "      <td>0.000000</td>\n",
       "      <td>0.000000</td>\n",
       "      <td>2.000000</td>\n",
       "      <td>6.000000</td>\n",
       "      <td>3.130000e+02</td>\n",
       "    </tr>\n",
       "    <tr>\n",
       "      <th>num_arch_rem_0_12m</th>\n",
       "      <td>99976.0</td>\n",
       "      <td>0.469443</td>\n",
       "      <td>1.360349</td>\n",
       "      <td>0.000000</td>\n",
       "      <td>0.000000</td>\n",
       "      <td>0.000000</td>\n",
       "      <td>0.000000</td>\n",
       "      <td>4.200000e+01</td>\n",
       "    </tr>\n",
       "    <tr>\n",
       "      <th>num_arch_written_off_0_12m</th>\n",
       "      <td>81898.0</td>\n",
       "      <td>0.000122</td>\n",
       "      <td>0.011049</td>\n",
       "      <td>0.000000</td>\n",
       "      <td>0.000000</td>\n",
       "      <td>0.000000</td>\n",
       "      <td>0.000000</td>\n",
       "      <td>1.000000e+00</td>\n",
       "    </tr>\n",
       "    <tr>\n",
       "      <th>num_arch_written_off_12_24m</th>\n",
       "      <td>81898.0</td>\n",
       "      <td>0.000159</td>\n",
       "      <td>0.014407</td>\n",
       "      <td>0.000000</td>\n",
       "      <td>0.000000</td>\n",
       "      <td>0.000000</td>\n",
       "      <td>0.000000</td>\n",
       "      <td>2.000000e+00</td>\n",
       "    </tr>\n",
       "    <tr>\n",
       "      <th>num_unpaid_bills</th>\n",
       "      <td>99976.0</td>\n",
       "      <td>2.141564</td>\n",
       "      <td>6.300978</td>\n",
       "      <td>0.000000</td>\n",
       "      <td>0.000000</td>\n",
       "      <td>0.000000</td>\n",
       "      <td>2.000000</td>\n",
       "      <td>1.820000e+02</td>\n",
       "    </tr>\n",
       "    <tr>\n",
       "      <th>recovery_debt</th>\n",
       "      <td>99976.0</td>\n",
       "      <td>4.035429</td>\n",
       "      <td>163.934564</td>\n",
       "      <td>0.000000</td>\n",
       "      <td>0.000000</td>\n",
       "      <td>0.000000</td>\n",
       "      <td>0.000000</td>\n",
       "      <td>3.647900e+04</td>\n",
       "    </tr>\n",
       "    <tr>\n",
       "      <th>sum_capital_paid_account_0_12m</th>\n",
       "      <td>99976.0</td>\n",
       "      <td>10816.065386</td>\n",
       "      <td>26463.972170</td>\n",
       "      <td>0.000000</td>\n",
       "      <td>0.000000</td>\n",
       "      <td>0.000000</td>\n",
       "      <td>9029.750000</td>\n",
       "      <td>5.714750e+05</td>\n",
       "    </tr>\n",
       "    <tr>\n",
       "      <th>sum_capital_paid_account_12_24m</th>\n",
       "      <td>99976.0</td>\n",
       "      <td>6542.895325</td>\n",
       "      <td>19041.223585</td>\n",
       "      <td>0.000000</td>\n",
       "      <td>0.000000</td>\n",
       "      <td>0.000000</td>\n",
       "      <td>85.000000</td>\n",
       "      <td>3.418590e+05</td>\n",
       "    </tr>\n",
       "    <tr>\n",
       "      <th>sum_paid_inv_0_12m</th>\n",
       "      <td>99976.0</td>\n",
       "      <td>39208.802223</td>\n",
       "      <td>90649.285276</td>\n",
       "      <td>0.000000</td>\n",
       "      <td>2600.000000</td>\n",
       "      <td>15995.000000</td>\n",
       "      <td>43844.250000</td>\n",
       "      <td>2.962870e+06</td>\n",
       "    </tr>\n",
       "    <tr>\n",
       "      <th>time_hours</th>\n",
       "      <td>99976.0</td>\n",
       "      <td>15.329780</td>\n",
       "      <td>5.031360</td>\n",
       "      <td>0.000278</td>\n",
       "      <td>11.622708</td>\n",
       "      <td>15.792778</td>\n",
       "      <td>19.542014</td>\n",
       "      <td>2.399972e+01</td>\n",
       "    </tr>\n",
       "  </tbody>\n",
       "</table>\n",
       "</div>"
      ],
      "text/plain": [
       "                                       count          mean           std  \\\n",
       "account_amount_added_12_24m          99976.0  12255.149516  35481.483737   \n",
       "account_days_in_dc_12_24m            88140.0      0.223043      5.808117   \n",
       "account_days_in_rem_12_24m           88140.0      5.044622     22.863971   \n",
       "account_days_in_term_12_24m          88140.0      0.286896      2.929910   \n",
       "account_incoming_debt_vs_paid_0_24m  40661.0      1.331292     26.482299   \n",
       "age                                  99976.0     36.016284     13.001306   \n",
       "avg_payment_span_0_12m               76140.0     17.971473     12.751066   \n",
       "avg_payment_span_0_3m                50671.0     14.989786     10.297420   \n",
       "max_paid_inv_0_12m                   99976.0   9203.654217  13512.167229   \n",
       "max_paid_inv_0_24m                   99976.0  11215.120819  15256.414937   \n",
       "num_active_div_by_paid_inv_0_12m     77037.0      0.114840      0.293483   \n",
       "num_active_inv                       99976.0      0.599404      1.550026   \n",
       "num_arch_dc_0_12m                    99976.0      0.061745      0.374691   \n",
       "num_arch_dc_12_24m                   99976.0      0.059364      0.366224   \n",
       "num_arch_ok_0_12m                    99976.0      7.275826     16.030369   \n",
       "num_arch_ok_12_24m                   99976.0      6.369799     15.350244   \n",
       "num_arch_rem_0_12m                   99976.0      0.469443      1.360349   \n",
       "num_arch_written_off_0_12m           81898.0      0.000122      0.011049   \n",
       "num_arch_written_off_12_24m          81898.0      0.000159      0.014407   \n",
       "num_unpaid_bills                     99976.0      2.141564      6.300978   \n",
       "recovery_debt                        99976.0      4.035429    163.934564   \n",
       "sum_capital_paid_account_0_12m       99976.0  10816.065386  26463.972170   \n",
       "sum_capital_paid_account_12_24m      99976.0   6542.895325  19041.223585   \n",
       "sum_paid_inv_0_12m                   99976.0  39208.802223  90649.285276   \n",
       "time_hours                           99976.0     15.329780      5.031360   \n",
       "\n",
       "                                           min          25%           50%  \\\n",
       "account_amount_added_12_24m           0.000000     0.000000      0.000000   \n",
       "account_days_in_dc_12_24m             0.000000     0.000000      0.000000   \n",
       "account_days_in_rem_12_24m            0.000000     0.000000      0.000000   \n",
       "account_days_in_term_12_24m           0.000000     0.000000      0.000000   \n",
       "account_incoming_debt_vs_paid_0_24m   0.000000     0.000000      0.152082   \n",
       "age                                  18.000000    25.000000     34.000000   \n",
       "avg_payment_span_0_12m                0.000000    10.800000     14.909091   \n",
       "avg_payment_span_0_3m                 0.000000     8.400000     13.000000   \n",
       "max_paid_inv_0_12m                    0.000000  2000.000000   6052.000000   \n",
       "max_paid_inv_0_24m                    0.000000  3350.000000   7580.000000   \n",
       "num_active_div_by_paid_inv_0_12m      0.000000     0.000000      0.000000   \n",
       "num_active_inv                        0.000000     0.000000      0.000000   \n",
       "num_arch_dc_0_12m                     0.000000     0.000000      0.000000   \n",
       "num_arch_dc_12_24m                    0.000000     0.000000      0.000000   \n",
       "num_arch_ok_0_12m                     0.000000     0.000000      2.000000   \n",
       "num_arch_ok_12_24m                    0.000000     0.000000      2.000000   \n",
       "num_arch_rem_0_12m                    0.000000     0.000000      0.000000   \n",
       "num_arch_written_off_0_12m            0.000000     0.000000      0.000000   \n",
       "num_arch_written_off_12_24m           0.000000     0.000000      0.000000   \n",
       "num_unpaid_bills                      0.000000     0.000000      0.000000   \n",
       "recovery_debt                         0.000000     0.000000      0.000000   \n",
       "sum_capital_paid_account_0_12m        0.000000     0.000000      0.000000   \n",
       "sum_capital_paid_account_12_24m       0.000000     0.000000      0.000000   \n",
       "sum_paid_inv_0_12m                    0.000000  2600.000000  15995.000000   \n",
       "time_hours                            0.000278    11.622708     15.792778   \n",
       "\n",
       "                                              75%           max  \n",
       "account_amount_added_12_24m           4937.250000  1.128775e+06  \n",
       "account_days_in_dc_12_24m                0.000000  3.650000e+02  \n",
       "account_days_in_rem_12_24m               0.000000  3.650000e+02  \n",
       "account_days_in_term_12_24m              0.000000  9.700000e+01  \n",
       "account_incoming_debt_vs_paid_0_24m      0.662952  3.914000e+03  \n",
       "age                                     45.000000  1.000000e+02  \n",
       "avg_payment_span_0_12m                  21.000000  2.600000e+02  \n",
       "avg_payment_span_0_3m                   18.285714  8.700000e+01  \n",
       "max_paid_inv_0_12m                   11380.000000  2.790000e+05  \n",
       "max_paid_inv_0_24m                   13783.000000  5.385000e+05  \n",
       "num_active_div_by_paid_inv_0_12m         0.100000  9.000000e+00  \n",
       "num_active_inv                           1.000000  4.700000e+01  \n",
       "num_arch_dc_0_12m                        0.000000  1.700000e+01  \n",
       "num_arch_dc_12_24m                       0.000000  1.300000e+01  \n",
       "num_arch_ok_0_12m                        7.000000  2.610000e+02  \n",
       "num_arch_ok_12_24m                       6.000000  3.130000e+02  \n",
       "num_arch_rem_0_12m                       0.000000  4.200000e+01  \n",
       "num_arch_written_off_0_12m               0.000000  1.000000e+00  \n",
       "num_arch_written_off_12_24m              0.000000  2.000000e+00  \n",
       "num_unpaid_bills                         2.000000  1.820000e+02  \n",
       "recovery_debt                            0.000000  3.647900e+04  \n",
       "sum_capital_paid_account_0_12m        9029.750000  5.714750e+05  \n",
       "sum_capital_paid_account_12_24m         85.000000  3.418590e+05  \n",
       "sum_paid_inv_0_12m                   43844.250000  2.962870e+06  \n",
       "time_hours                              19.542014  2.399972e+01  "
      ]
     },
     "execution_count": 5,
     "metadata": {},
     "output_type": "execute_result"
    }
   ],
   "source": [
    "dfb[num_columns].describe().T"
   ]
  },
  {
   "cell_type": "code",
   "execution_count": 6,
   "metadata": {},
   "outputs": [
    {
     "name": "stdout",
     "output_type": "stream",
     "text": [
      "worst_status_active_inv                69.531688\n",
      "account_worst_status_12_24m            66.777026\n",
      "account_worst_status_6_12m             60.364487\n",
      "account_incoming_debt_vs_paid_0_24m    59.329239\n",
      "account_worst_status_3_6m              57.715852\n",
      "account_status                         54.386053\n",
      "account_worst_status_0_3m              54.386053\n",
      "avg_payment_span_0_3m                  49.316836\n",
      "avg_payment_span_0_12m                 23.841722\n",
      "num_active_div_by_paid_inv_0_12m       22.944507\n",
      "num_arch_written_off_12_24m            18.082340\n",
      "num_arch_written_off_0_12m             18.082340\n",
      "account_days_in_rem_12_24m             11.838841\n",
      "account_days_in_term_12_24m            11.838841\n",
      "account_days_in_dc_12_24m              11.838841\n",
      "default                                10.002401\n",
      "dtype: float64\n"
     ]
    }
   ],
   "source": [
    "q = ((dfb.isnull().sum()/ len(dfb))*100)\n",
    "print(q.sort_values(ascending=False)[:16])"
   ]
  },
  {
   "cell_type": "code",
   "execution_count": 7,
   "metadata": {},
   "outputs": [],
   "source": [
    "percent = dfb.isnull().sum() * 100 / len(dfb)\n",
    "willdrop = percent[percent>30].keys()\n",
    "dfb = dfb.drop(willdrop, axis=1)\n",
    "for i in willdrop:\n",
    "    if i in num_columns:\n",
    "        num_columns.remove(i)\n",
    "    elif i in cat_columns:\n",
    "        cat_columns.remove(i)\n",
    "    elif i in bool_columns:\n",
    "        bool_columns.remove(i)\n"
   ]
  },
  {
   "cell_type": "code",
   "execution_count": 8,
   "metadata": {},
   "outputs": [
    {
     "name": "stdout",
     "output_type": "stream",
     "text": [
      "23 10 1\n"
     ]
    }
   ],
   "source": [
    "print(len(num_columns),len(cat_columns), len(bool_columns))"
   ]
  },
  {
   "cell_type": "code",
   "execution_count": 9,
   "metadata": {},
   "outputs": [
    {
     "name": "stdout",
     "output_type": "stream",
     "text": [
      "avg_payment_span_0_12m              23.841722\n",
      "num_active_div_by_paid_inv_0_12m    22.944507\n",
      "num_arch_written_off_12_24m         18.082340\n",
      "num_arch_written_off_0_12m          18.082340\n",
      "account_days_in_dc_12_24m           11.838841\n",
      "account_days_in_rem_12_24m          11.838841\n",
      "account_days_in_term_12_24m         11.838841\n",
      "default                             10.002401\n",
      "status_3rd_last_archived_0_24m       0.000000\n",
      "num_unpaid_bills                     0.000000\n",
      "status_last_archived_0_24m           0.000000\n",
      "status_2nd_last_archived_0_24m       0.000000\n",
      "uuid                                 0.000000\n",
      "status_max_archived_0_6_months       0.000000\n",
      "status_max_archived_0_12_months      0.000000\n",
      "recovery_debt                        0.000000\n",
      "dtype: float64\n"
     ]
    }
   ],
   "source": [
    "q = ((dfb.isnull().sum()/ len(dfb))*100)\n",
    "print(q.sort_values(ascending=False)[:16])"
   ]
  },
  {
   "cell_type": "code",
   "execution_count": 10,
   "metadata": {},
   "outputs": [],
   "source": [
    "from sklearn import preprocessing\n",
    " \n",
    "label_encoder = preprocessing.LabelEncoder()\n",
    " \n",
    "dfb[\"merchant_category\"]= label_encoder.fit_transform(dfb[\"merchant_category\"])\n",
    "dfb[\"merchant_group\"]= label_encoder.fit_transform(dfb[\"merchant_group\"])\n",
    "dfb[\"name_in_email\"]= label_encoder.fit_transform(dfb[\"name_in_email\"])\n",
    "dfb[\"status_last_archived_0_24m\"]= label_encoder.fit_transform(dfb[\"status_last_archived_0_24m\"])\n",
    "dfb[\"status_2nd_last_archived_0_24m\"]= label_encoder.fit_transform(dfb[\"status_2nd_last_archived_0_24m\"])\n",
    "dfb[\"status_3rd_last_archived_0_24m\"]= label_encoder.fit_transform(dfb[\"status_3rd_last_archived_0_24m\"])\n",
    "dfb[\"status_max_archived_0_6_months\"]= label_encoder.fit_transform(dfb[\"status_max_archived_0_6_months\"])\n",
    "dfb[\"status_max_archived_0_12_months\"]= label_encoder.fit_transform(dfb[\"status_max_archived_0_12_months\"])\n",
    "dfb[\"status_max_archived_0_24_months\"]= label_encoder.fit_transform(dfb[\"status_max_archived_0_24_months\"])\n",
    "dfb[\"has_paid\"]= label_encoder.fit_transform(dfb[\"has_paid\"])"
   ]
  },
  {
   "cell_type": "code",
   "execution_count": 11,
   "metadata": {},
   "outputs": [
    {
     "data": {
      "text/plain": [
       "(10000, 34)"
      ]
     },
     "execution_count": 11,
     "metadata": {},
     "output_type": "execute_result"
    }
   ],
   "source": [
    "predict_data = dfb[pd.isnull(dfb.default)]\n",
    "predict_data.drop([\"uuid\"], axis=1, inplace=True)\n",
    "predict_data.shape"
   ]
  },
  {
   "cell_type": "code",
   "execution_count": 12,
   "metadata": {},
   "outputs": [
    {
     "data": {
      "text/plain": [
       "(89976, 34)"
      ]
     },
     "execution_count": 12,
     "metadata": {},
     "output_type": "execute_result"
    }
   ],
   "source": [
    "dfb.drop(dfb[pd.isnull(dfb.default)].index, axis=0, inplace=True)\n",
    "dfb.drop([\"uuid\"], axis=1, inplace=True)\n",
    "dfb.shape"
   ]
  },
  {
   "cell_type": "code",
   "execution_count": 13,
   "metadata": {},
   "outputs": [],
   "source": [
    "percent = dfb.isnull().sum() * 100 / len(dfb)\n",
    "missingValuesColumns= percent[percent>0].keys()"
   ]
  },
  {
   "cell_type": "code",
   "execution_count": 14,
   "metadata": {},
   "outputs": [],
   "source": [
    "def median_target(dataf,var):\n",
    "    temp=dataf[dataf[var].notnull()]\n",
    "    temp=temp[[var, 'default']].groupby(['default'])[[var]].median().reset_index()\n",
    "    return temp"
   ]
  },
  {
   "cell_type": "code",
   "execution_count": 15,
   "metadata": {},
   "outputs": [],
   "source": [
    "def fill_missing():\n",
    "    for col in missingValuesColumns :\n",
    "        dfb.loc[(dfb['default'] == 0.0) & (dfb[col].isnull()), col] = median_target(dfb,col)[col][0]\n",
    "        dfb.loc[(dfb['default'] == 1.0) & (dfb[col].isnull()), col] = median_target(dfb,col)[col][1]"
   ]
  },
  {
   "cell_type": "code",
   "execution_count": 16,
   "metadata": {},
   "outputs": [],
   "source": [
    "fill_missing()"
   ]
  },
  {
   "cell_type": "code",
   "execution_count": 17,
   "metadata": {},
   "outputs": [
    {
     "data": {
      "text/plain": [
       "account_days_in_dc_12_24m           0\n",
       "account_days_in_rem_12_24m          0\n",
       "account_days_in_term_12_24m         0\n",
       "avg_payment_span_0_12m              0\n",
       "num_active_div_by_paid_inv_0_12m    0\n",
       "num_arch_written_off_0_12m          0\n",
       "num_arch_written_off_12_24m         0\n",
       "dtype: int64"
      ]
     },
     "execution_count": 17,
     "metadata": {},
     "output_type": "execute_result"
    }
   ],
   "source": [
    "dfb[missingValuesColumns].isnull().sum()"
   ]
  },
  {
   "cell_type": "code",
   "execution_count": 18,
   "metadata": {},
   "outputs": [],
   "source": [
    "features=dfb.columns\n",
    "label = 'default'\n",
    "X, y = dfb[features].values, dfb[label].values"
   ]
  },
  {
   "cell_type": "code",
   "execution_count": 20,
   "metadata": {},
   "outputs": [],
   "source": [
    "from imblearn.over_sampling import RandomOverSampler\n",
    "over_sampler = RandomOverSampler(random_state=42)\n",
    "X_res, y_res = over_sampler.fit_resample(X, y)\n"
   ]
  },
  {
   "cell_type": "code",
   "execution_count": 21,
   "metadata": {},
   "outputs": [
    {
     "name": "stdout",
     "output_type": "stream",
     "text": [
      "Training cases: 124163\n",
      "Test cases: 53213\n"
     ]
    }
   ],
   "source": [
    "from sklearn.model_selection import train_test_split\n",
    "\n",
    "# Split data 70%-30% into training set and test set\n",
    "X_train, X_test, y_train, y_test = train_test_split(X_res, y_res, test_size=0.30, random_state=0)\n",
    "\n",
    "print ('Training cases: %d\\nTest cases: %d' % (X_train.shape[0], X_test.shape[0]))"
   ]
  },
  {
   "cell_type": "code",
   "execution_count": 22,
   "metadata": {},
   "outputs": [
    {
     "name": "stdout",
     "output_type": "stream",
     "text": [
      "default                             0.0\n",
      "account_amount_added_12_24m         0.0\n",
      "account_days_in_dc_12_24m           0.0\n",
      "account_days_in_rem_12_24m          0.0\n",
      "account_days_in_term_12_24m         0.0\n",
      "age                                 0.0\n",
      "avg_payment_span_0_12m              0.0\n",
      "merchant_category                   0.0\n",
      "merchant_group                      0.0\n",
      "has_paid                            0.0\n",
      "max_paid_inv_0_12m                  0.0\n",
      "max_paid_inv_0_24m                  0.0\n",
      "name_in_email                       0.0\n",
      "num_active_div_by_paid_inv_0_12m    0.0\n",
      "num_active_inv                      0.0\n",
      "num_arch_dc_0_12m                   0.0\n",
      "num_arch_dc_12_24m                  0.0\n",
      "num_arch_ok_0_12m                   0.0\n",
      "num_arch_ok_12_24m                  0.0\n",
      "num_arch_rem_0_12m                  0.0\n",
      "num_arch_written_off_0_12m          0.0\n",
      "num_arch_written_off_12_24m         0.0\n",
      "num_unpaid_bills                    0.0\n",
      "status_last_archived_0_24m          0.0\n",
      "status_2nd_last_archived_0_24m      0.0\n",
      "status_3rd_last_archived_0_24m      0.0\n",
      "status_max_archived_0_6_months      0.0\n",
      "status_max_archived_0_12_months     0.0\n",
      "status_max_archived_0_24_months     0.0\n",
      "recovery_debt                       0.0\n",
      "sum_capital_paid_account_0_12m      0.0\n",
      "sum_capital_paid_account_12_24m     0.0\n",
      "sum_paid_inv_0_12m                  0.0\n",
      "time_hours                          0.0\n",
      "dtype: float64\n"
     ]
    }
   ],
   "source": [
    "q = (dfb.isnull().sum()/ len(dfb))*100\n",
    "print(q)"
   ]
  },
  {
   "cell_type": "code",
   "execution_count": 23,
   "metadata": {},
   "outputs": [
    {
     "name": "stdout",
     "output_type": "stream",
     "text": [
      "LogisticRegression(C=100.0, solver='liblinear')\n"
     ]
    }
   ],
   "source": [
    "# Train the model\n",
    "from sklearn.linear_model import LogisticRegression\n",
    "\n",
    "# Set regularization rate\n",
    "reg = 0.01\n",
    "\n",
    "# train a logistic regression model on the training set\n",
    "model = LogisticRegression(C=1/reg, solver=\"liblinear\").fit(X_train, y_train)\n",
    "print (model)"
   ]
  },
  {
   "cell_type": "code",
   "execution_count": 24,
   "metadata": {},
   "outputs": [
    {
     "name": "stdout",
     "output_type": "stream",
     "text": [
      "Predicted labels:  [1. 1. 1. ... 0. 1. 0.]\n",
      "Actual labels:     [1. 1. 1. ... 0. 1. 0.]\n"
     ]
    }
   ],
   "source": [
    "predictions = model.predict(X_test)\n",
    "print('Predicted labels: ', predictions)\n",
    "print('Actual labels:    ' ,y_test)"
   ]
  },
  {
   "cell_type": "code",
   "execution_count": 25,
   "metadata": {},
   "outputs": [
    {
     "name": "stdout",
     "output_type": "stream",
     "text": [
      "Accuracy:  0.8826226673933062\n"
     ]
    }
   ],
   "source": [
    "from sklearn.metrics import accuracy_score\n",
    "\n",
    "print('Accuracy: ', accuracy_score(y_test, predictions))"
   ]
  },
  {
   "cell_type": "code",
   "execution_count": 26,
   "metadata": {},
   "outputs": [
    {
     "name": "stdout",
     "output_type": "stream",
     "text": [
      "              precision    recall  f1-score   support\n",
      "\n",
      "         0.0       0.87      0.90      0.88     26358\n",
      "         1.0       0.89      0.87      0.88     26855\n",
      "\n",
      "    accuracy                           0.88     53213\n",
      "   macro avg       0.88      0.88      0.88     53213\n",
      "weighted avg       0.88      0.88      0.88     53213\n",
      "\n"
     ]
    }
   ],
   "source": [
    "from sklearn. metrics import classification_report\n",
    "\n",
    "print(classification_report(y_test, predictions))"
   ]
  },
  {
   "cell_type": "code",
   "execution_count": 27,
   "metadata": {},
   "outputs": [
    {
     "name": "stdout",
     "output_type": "stream",
     "text": [
      "Overall Precision: 0.8946421048600207\n",
      "Overall Recall: 0.8698566374976727\n"
     ]
    }
   ],
   "source": [
    "from sklearn.metrics import precision_score, recall_score\n",
    "\n",
    "print(\"Overall Precision:\",precision_score(y_test, predictions))\n",
    "print(\"Overall Recall:\",recall_score(y_test, predictions))"
   ]
  },
  {
   "cell_type": "code",
   "execution_count": 28,
   "metadata": {},
   "outputs": [
    {
     "name": "stdout",
     "output_type": "stream",
     "text": [
      "[[23607  2751]\n",
      " [ 3495 23360]]\n"
     ]
    }
   ],
   "source": [
    "from sklearn.metrics import confusion_matrix\n",
    "\n",
    "# Print the confusion matrix\n",
    "cm = confusion_matrix(y_test, predictions)\n",
    "print (cm)\n",
    "\n",
    "#TN\tFP\n",
    "#FN\tTP"
   ]
  },
  {
   "cell_type": "code",
   "execution_count": 29,
   "metadata": {},
   "outputs": [
    {
     "name": "stdout",
     "output_type": "stream",
     "text": [
      "[[3.05173352e-04 9.99694827e-01]\n",
      " [4.50101520e-02 9.54989848e-01]\n",
      " [9.62366272e-02 9.03763373e-01]\n",
      " ...\n",
      " [9.35787732e-01 6.42122682e-02]\n",
      " [7.23895961e-02 9.27610404e-01]\n",
      " [9.64834496e-01 3.51655036e-02]]\n"
     ]
    }
   ],
   "source": [
    "y_scores = model.predict_proba(X_test)\n",
    "print(y_scores)"
   ]
  },
  {
   "cell_type": "code",
   "execution_count": 30,
   "metadata": {},
   "outputs": [
    {
     "data": {
      "image/png": "[encoded data removed]",
      "text/plain": [
       "<Figure size 432x432 with 1 Axes>"
      ]
     },
     "metadata": {
      "needs_background": "light"
     },
     "output_type": "display_data"
    }
   ],
   "source": [
    "from sklearn.metrics import roc_curve\n",
    "from sklearn.metrics import confusion_matrix\n",
    "import matplotlib\n",
    "import matplotlib.pyplot as plt\n",
    "%matplotlib inline\n",
    "\n",
    "# calculate ROC curve\n",
    "fpr, tpr, thresholds = roc_curve(y_test, y_scores[:,1])\n",
    "\n",
    "# plot ROC curve\n",
    "fig = plt.figure(figsize=(6, 6))\n",
    "# Plot the diagonal 50% line\n",
    "plt.plot([0, 1], [0, 1], 'k--')\n",
    "# Plot the FPR and TPR achieved by our model\n",
    "plt.plot(fpr, tpr)\n",
    "plt.xlabel('False Positive Rate')\n",
    "plt.ylabel('True Positive Rate')\n",
    "plt.title('ROC Curve')\n",
    "plt.show()"
   ]
  },
  {
   "cell_type": "code",
   "execution_count": 31,
   "metadata": {},
   "outputs": [
    {
     "name": "stdout",
     "output_type": "stream",
     "text": [
      "AUC: 0.9421548197146069\n"
     ]
    }
   ],
   "source": [
    "from sklearn.metrics import roc_auc_score\n",
    "\n",
    "auc = roc_auc_score(y_test,y_scores[:,1])\n",
    "print('AUC: ' + str(auc))"
   ]
  },
  {
   "cell_type": "code",
   "execution_count": 32,
   "metadata": {},
   "outputs": [
    {
     "name": "stdout",
     "output_type": "stream",
     "text": [
      "0.8843096394292138\n"
     ]
    }
   ],
   "source": [
    "gini = 2*auc - 1\n",
    "print(gini)"
   ]
  },
  {
   "cell_type": "code",
   "execution_count": 33,
   "metadata": {},
   "outputs": [
    {
     "name": "stdout",
     "output_type": "stream",
     "text": [
      "Pipeline(steps=[('preprocessor',\n",
      "                 ColumnTransformer(transformers=[('num',\n",
      "                                                  Pipeline(steps=[('scaler',\n",
      "                                                                   StandardScaler())]),\n",
      "                                                  [1, 2, 3, 4, 5, 6, 10, 11, 13,\n",
      "                                                   14, 15, 16, 17, 18, 19, 20,\n",
      "                                                   21, 22, 29, 30, 31, 32,\n",
      "                                                   33]),\n",
      "                                                 ('cat',\n",
      "                                                  Pipeline(steps=[('onehot',\n",
      "                                                                   OneHotEncoder(handle_unknown='ignore'))]),\n",
      "                                                  [7, 8, 9, 12, 23, 24, 26, 27,\n",
      "                                                   28])])),\n",
      "                ('logregressor',\n",
      "                 LogisticRegression(C=100.0, solver='liblinear'))])\n"
     ]
    }
   ],
   "source": [
    "# Train the model\n",
    "from sklearn.compose import ColumnTransformer\n",
    "from sklearn.pipeline import Pipeline\n",
    "from sklearn.preprocessing import StandardScaler, OneHotEncoder\n",
    "from sklearn.linear_model import LogisticRegression\n",
    "import numpy as np\n",
    "\n",
    "# Define preprocessing for numeric columns (normalize them so they're on the same scale)\n",
    "numeric_features = [1,2,3,4,5,6,10,11,13,14,15,16,17,18,19,20,21,22,29,30,31,32,33]\n",
    "numeric_transformer = Pipeline(steps=[\n",
    "    ('scaler', StandardScaler())])\n",
    "\n",
    "# Define preprocessing for categorical features (encode the Age column)\n",
    "categorical_features = [7,8,9,12,23,24,26,27,28]\n",
    "categorical_transformer = Pipeline(steps=[\n",
    "    ('onehot', OneHotEncoder(handle_unknown='ignore'))])\n",
    "\n",
    "# Combine preprocessing steps\n",
    "preprocessor = ColumnTransformer(\n",
    "    transformers=[\n",
    "        ('num', numeric_transformer, numeric_features),\n",
    "        ('cat', categorical_transformer, categorical_features)])\n",
    "\n",
    "# Create preprocessing and training pipeline\n",
    "pipeline = Pipeline(steps=[('preprocessor', preprocessor),\n",
    "                           ('logregressor', LogisticRegression(C=1/reg, solver=\"liblinear\"))])\n",
    "\n",
    "\n",
    "# fit the pipeline to train a logistic regression model on the training set\n",
    "model = pipeline.fit(X_train, (y_train))\n",
    "print (model)"
   ]
  },
  {
   "cell_type": "code",
   "execution_count": 34,
   "metadata": {},
   "outputs": [
    {
     "name": "stdout",
     "output_type": "stream",
     "text": [
      "Confusion Matrix:\n",
      " [[23837  2521]\n",
      " [ 3494 23361]] \n",
      "\n",
      "Accuracy: 0.8869637118749177\n",
      "Overall Precision: 0.9025963990418051\n",
      "Overall Recall: 0.8698938745112642\n",
      "AUC: 0.9449618460471995\n"
     ]
    },
    {
     "data": {
      "image/png": "[encoded data removed]",
      "text/plain": [
       "<Figure size 432x432 with 1 Axes>"
      ]
     },
     "metadata": {
      "needs_background": "light"
     },
     "output_type": "display_data"
    }
   ],
   "source": [
    "# Get predictions from test data\n",
    "predictions = model.predict(X_test)\n",
    "y_scores = model.predict_proba(X_test)\n",
    "\n",
    "# Get evaluation metrics\n",
    "cm = confusion_matrix(y_test, predictions)\n",
    "print ('Confusion Matrix:\\n',cm, '\\n')\n",
    "print('Accuracy:', accuracy_score(y_test, predictions))\n",
    "print(\"Overall Precision:\",precision_score(y_test, predictions))\n",
    "print(\"Overall Recall:\",recall_score(y_test, predictions))\n",
    "auc = roc_auc_score(y_test,y_scores[:,1])\n",
    "print('AUC: ' + str(auc))\n",
    "\n",
    "# calculate ROC curve\n",
    "fpr, tpr, thresholds = roc_curve(y_test, y_scores[:,1])\n",
    "\n",
    "# plot ROC curve\n",
    "fig = plt.figure(figsize=(6, 6))\n",
    "# Plot the diagonal 50% line\n",
    "plt.plot([0, 1], [0, 1], 'k--')\n",
    "# Plot the FPR and TPR achieved by our model\n",
    "plt.plot(fpr, tpr)\n",
    "plt.xlabel('False Positive Rate')\n",
    "plt.ylabel('True Positive Rate')\n",
    "plt.title('ROC Curve')\n",
    "plt.show()"
   ]
  },
  {
   "cell_type": "code",
   "execution_count": 35,
   "metadata": {},
   "outputs": [
    {
     "name": "stdout",
     "output_type": "stream",
     "text": [
      "Pipeline(steps=[('preprocessor',\n",
      "                 ColumnTransformer(transformers=[('num',\n",
      "                                                  Pipeline(steps=[('scaler',\n",
      "                                                                   StandardScaler())]),\n",
      "                                                  [1, 2, 3, 4, 5, 6, 10, 11, 13,\n",
      "                                                   14, 15, 16, 17, 18, 19, 20,\n",
      "                                                   21, 22, 29, 30, 31, 32,\n",
      "                                                   33]),\n",
      "                                                 ('cat',\n",
      "                                                  Pipeline(steps=[('onehot',\n",
      "                                                                   OneHotEncoder(handle_unknown='ignore'))]),\n",
      "                                                  [7, 8, 9, 12, 23, 24, 26, 27,\n",
      "                                                   28])])),\n",
      "                ('logregressor', RandomForestClassifier())])\n"
     ]
    }
   ],
   "source": [
    "from sklearn.ensemble import RandomForestClassifier\n",
    "\n",
    "# Create preprocessing and training pipeline\n",
    "pipeline = Pipeline(steps=[('preprocessor', preprocessor),\n",
    "                           ('logregressor', RandomForestClassifier(n_estimators=100))])\n",
    "\n",
    "# fit the pipeline to train a random forest model on the training set\n",
    "model = pipeline.fit(X_train, (y_train))\n",
    "print (model)"
   ]
  },
  {
   "cell_type": "code",
   "execution_count": 36,
   "metadata": {},
   "outputs": [
    {
     "name": "stdout",
     "output_type": "stream",
     "text": [
      "Confusion Matrix:\n",
      " [[26338    20]\n",
      " [    0 26855]] \n",
      "\n",
      "Accuracy: 0.9996241519929341\n",
      "Overall Precision: 0.9992558139534884\n",
      "Overall Recall: 1.0\n",
      "\n",
      "AUC: 1.0\n"
     ]
    },
    {
     "data": {
      "image/png": "[encoded data removed]",
      "text/plain": [
       "<Figure size 432x432 with 1 Axes>"
      ]
     },
     "metadata": {
      "needs_background": "light"
     },
     "output_type": "display_data"
    }
   ],
   "source": [
    "predictions = model.predict(X_test)\n",
    "y_scores = model.predict_proba(X_test)\n",
    "cm = confusion_matrix(y_test, predictions)\n",
    "print ('Confusion Matrix:\\n',cm, '\\n')\n",
    "print('Accuracy:', accuracy_score(y_test, predictions))\n",
    "print(\"Overall Precision:\",precision_score(y_test, predictions))\n",
    "print(\"Overall Recall:\",recall_score(y_test, predictions))\n",
    "auc = roc_auc_score(y_test,y_scores[:,1])\n",
    "print('\\nAUC: ' + str(auc))\n",
    "\n",
    "# calculate ROC curve\n",
    "fpr, tpr, thresholds = roc_curve(y_test, y_scores[:,1])\n",
    "\n",
    "# plot ROC curve\n",
    "fig = plt.figure(figsize=(6, 6))\n",
    "# Plot the diagonal 50% line\n",
    "plt.plot([0, 1], [0, 1], 'k--')\n",
    "# Plot the FPR and TPR achieved by our model\n",
    "plt.plot(fpr, tpr)\n",
    "plt.xlabel('False Positive Rate')\n",
    "plt.ylabel('True Positive Rate')\n",
    "plt.title('ROC Curve')\n",
    "plt.show()"
   ]
  },
  {
   "cell_type": "code",
   "execution_count": 37,
   "metadata": {},
   "outputs": [
    {
     "data": {
      "text/plain": [
       "['./denizbank_project_model.pkl']"
      ]
     },
     "execution_count": 37,
     "metadata": {},
     "output_type": "execute_result"
    }
   ],
   "source": [
    "import joblib\n",
    "\n",
    "# Save the model as a pickle file\n",
    "filename = './denizbank_project_model.pkl'\n",
    "joblib.dump(model, filename)"
   ]
  },
  {
   "cell_type": "code",
   "execution_count": 38,
   "metadata": {},
   "outputs": [],
   "source": [
    "featuress=predict_data.columns\n",
    "label = 'default'\n",
    "X2, y2 = predict_data[featuress].values, predict_data[label].values"
   ]
  },
  {
   "cell_type": "code",
   "execution_count": 39,
   "metadata": {},
   "outputs": [],
   "source": [
    "predict_data[\"default\"] = 0"
   ]
  },
  {
   "cell_type": "code",
   "execution_count": 62,
   "metadata": {},
   "outputs": [
    {
     "data": {
      "text/plain": [
       "Index([], dtype='object')"
      ]
     },
     "execution_count": 62,
     "metadata": {},
     "output_type": "execute_result"
    }
   ],
   "source": [
    "percent = predict_data.isnull().sum() * 100 / len(predict_data)\n",
    "missingValuesColumns= percent[percent>0].keys()\n",
    "missingValuesColumns"
   ]
  },
  {
   "cell_type": "code",
   "execution_count": 61,
   "metadata": {},
   "outputs": [],
   "source": [
    "mean_value=predict_data.mean()\n",
    "predict_data.fillna(value=mean_value, inplace=True)"
   ]
  },
  {
   "cell_type": "code",
   "execution_count": 60,
   "metadata": {},
   "outputs": [
    {
     "data": {
      "text/plain": [
       "default                             0\n",
       "account_amount_added_12_24m         0\n",
       "account_days_in_dc_12_24m           0\n",
       "account_days_in_rem_12_24m          0\n",
       "account_days_in_term_12_24m         0\n",
       "age                                 0\n",
       "avg_payment_span_0_12m              0\n",
       "merchant_category                   0\n",
       "merchant_group                      0\n",
       "has_paid                            0\n",
       "max_paid_inv_0_12m                  0\n",
       "max_paid_inv_0_24m                  0\n",
       "name_in_email                       0\n",
       "num_active_div_by_paid_inv_0_12m    0\n",
       "num_active_inv                      0\n",
       "num_arch_dc_0_12m                   0\n",
       "num_arch_dc_12_24m                  0\n",
       "num_arch_ok_0_12m                   0\n",
       "num_arch_ok_12_24m                  0\n",
       "num_arch_rem_0_12m                  0\n",
       "num_arch_written_off_0_12m          0\n",
       "num_arch_written_off_12_24m         0\n",
       "num_unpaid_bills                    0\n",
       "status_last_archived_0_24m          0\n",
       "status_2nd_last_archived_0_24m      0\n",
       "status_3rd_last_archived_0_24m      0\n",
       "status_max_archived_0_6_months      0\n",
       "status_max_archived_0_12_months     0\n",
       "status_max_archived_0_24_months     0\n",
       "recovery_debt                       0\n",
       "sum_capital_paid_account_0_12m      0\n",
       "sum_capital_paid_account_12_24m     0\n",
       "sum_paid_inv_0_12m                  0\n",
       "time_hours                          0\n",
       "dtype: int64"
      ]
     },
     "execution_count": 60,
     "metadata": {},
     "output_type": "execute_result"
    }
   ],
   "source": [
    "predict_data.isnull().sum()"
   ]
  },
  {
   "cell_type": "code",
   "execution_count": 57,
   "metadata": {},
   "outputs": [
    {
     "ename": "ValueError",
     "evalue": "Input X contains NaN.\nRandomForestClassifier does not accept missing values encoded as NaN natively. For supervised learning, you might want to consider sklearn.ensemble.HistGradientBoostingClassifier and Regressor which accept missing values encoded as NaNs natively. Alternatively, it is possible to preprocess the data, for instance by using an imputer transformer in a pipeline or drop samples with missing values. See https://scikit-learn.org/stable/modules/impute.html You can find a list of all estimators that handle NaN values at the following page: https://scikit-learn.org/stable/modules/impute.html#estimators-that-handle-nan-values",
     "output_type": "error",
     "traceback": [
      "\u001b[1;31m---------------------------------------------------------------------------\u001b[0m",
      "\u001b[1;31mValueError\u001b[0m                                Traceback (most recent call last)",
      "\u001b[1;32mz:\\Enish\\DERS\\COP4230-DENİZB\\denizbankkfinall\\Final.ipynb Hücre 50\u001b[0m in \u001b[0;36m<cell line: 4>\u001b[1;34m()\u001b[0m\n\u001b[0;32m      <a href='vscode-notebook-cell:/z%3A/Enish/DERS/COP4230-DEN%C4%B0ZB/denizbankkfinall/Final.ipynb#X66sZmlsZQ%3D%3D?line=0'>1</a>\u001b[0m \u001b[39mfrom\u001b[39;00m \u001b[39mpickle\u001b[39;00m \u001b[39mimport\u001b[39;00m load\n\u001b[0;32m      <a href='vscode-notebook-cell:/z%3A/Enish/DERS/COP4230-DEN%C4%B0ZB/denizbankkfinall/Final.ipynb#X66sZmlsZQ%3D%3D?line=2'>3</a>\u001b[0m yuklenen_model \u001b[39m=\u001b[39m joblib\u001b[39m.\u001b[39mload(filename)\n\u001b[1;32m----> <a href='vscode-notebook-cell:/z%3A/Enish/DERS/COP4230-DEN%C4%B0ZB/denizbankkfinall/Final.ipynb#X66sZmlsZQ%3D%3D?line=3'>4</a>\u001b[0m sonuc \u001b[39m=\u001b[39m yuklenen_model\u001b[39m.\u001b[39;49mscore(X2, y2)\n\u001b[0;32m      <a href='vscode-notebook-cell:/z%3A/Enish/DERS/COP4230-DEN%C4%B0ZB/denizbankkfinall/Final.ipynb#X66sZmlsZQ%3D%3D?line=4'>5</a>\u001b[0m \u001b[39mprint\u001b[39m(sonuc)\n",
      "File \u001b[1;32mc:\\Users\\enish\\anaconda3\\lib\\site-packages\\sklearn\\pipeline.py:699\u001b[0m, in \u001b[0;36mPipeline.score\u001b[1;34m(self, X, y, sample_weight)\u001b[0m\n\u001b[0;32m    697\u001b[0m \u001b[39mif\u001b[39;00m sample_weight \u001b[39mis\u001b[39;00m \u001b[39mnot\u001b[39;00m \u001b[39mNone\u001b[39;00m:\n\u001b[0;32m    698\u001b[0m     score_params[\u001b[39m\"\u001b[39m\u001b[39msample_weight\u001b[39m\u001b[39m\"\u001b[39m] \u001b[39m=\u001b[39m sample_weight\n\u001b[1;32m--> 699\u001b[0m \u001b[39mreturn\u001b[39;00m \u001b[39mself\u001b[39m\u001b[39m.\u001b[39msteps[\u001b[39m-\u001b[39m\u001b[39m1\u001b[39m][\u001b[39m1\u001b[39m]\u001b[39m.\u001b[39mscore(Xt, y, \u001b[39m*\u001b[39m\u001b[39m*\u001b[39mscore_params)\n",
      "File \u001b[1;32mc:\\Users\\enish\\anaconda3\\lib\\site-packages\\sklearn\\base.py:666\u001b[0m, in \u001b[0;36mClassifierMixin.score\u001b[1;34m(self, X, y, sample_weight)\u001b[0m\n\u001b[0;32m    641\u001b[0m \u001b[39m\"\"\"\u001b[39;00m\n\u001b[0;32m    642\u001b[0m \u001b[39mReturn the mean accuracy on the given test data and labels.\u001b[39;00m\n\u001b[0;32m    643\u001b[0m \n\u001b[1;32m   (...)\u001b[0m\n\u001b[0;32m    662\u001b[0m \u001b[39m    Mean accuracy of ``self.predict(X)`` wrt. `y`.\u001b[39;00m\n\u001b[0;32m    663\u001b[0m \u001b[39m\"\"\"\u001b[39;00m\n\u001b[0;32m    664\u001b[0m \u001b[39mfrom\u001b[39;00m \u001b[39m.\u001b[39;00m\u001b[39mmetrics\u001b[39;00m \u001b[39mimport\u001b[39;00m accuracy_score\n\u001b[1;32m--> 666\u001b[0m \u001b[39mreturn\u001b[39;00m accuracy_score(y, \u001b[39mself\u001b[39;49m\u001b[39m.\u001b[39;49mpredict(X), sample_weight\u001b[39m=\u001b[39msample_weight)\n",
      "File \u001b[1;32mc:\\Users\\enish\\anaconda3\\lib\\site-packages\\sklearn\\ensemble\\_forest.py:832\u001b[0m, in \u001b[0;36mForestClassifier.predict\u001b[1;34m(self, X)\u001b[0m\n\u001b[0;32m    811\u001b[0m \u001b[39mdef\u001b[39;00m \u001b[39mpredict\u001b[39m(\u001b[39mself\u001b[39m, X):\n\u001b[0;32m    812\u001b[0m     \u001b[39m\"\"\"\u001b[39;00m\n\u001b[0;32m    813\u001b[0m \u001b[39m    Predict class for X.\u001b[39;00m\n\u001b[0;32m    814\u001b[0m \n\u001b[1;32m   (...)\u001b[0m\n\u001b[0;32m    830\u001b[0m \u001b[39m        The predicted classes.\u001b[39;00m\n\u001b[0;32m    831\u001b[0m \u001b[39m    \"\"\"\u001b[39;00m\n\u001b[1;32m--> 832\u001b[0m     proba \u001b[39m=\u001b[39m \u001b[39mself\u001b[39;49m\u001b[39m.\u001b[39;49mpredict_proba(X)\n\u001b[0;32m    834\u001b[0m     \u001b[39mif\u001b[39;00m \u001b[39mself\u001b[39m\u001b[39m.\u001b[39mn_outputs_ \u001b[39m==\u001b[39m \u001b[39m1\u001b[39m:\n\u001b[0;32m    835\u001b[0m         \u001b[39mreturn\u001b[39;00m \u001b[39mself\u001b[39m\u001b[39m.\u001b[39mclasses_\u001b[39m.\u001b[39mtake(np\u001b[39m.\u001b[39margmax(proba, axis\u001b[39m=\u001b[39m\u001b[39m1\u001b[39m), axis\u001b[39m=\u001b[39m\u001b[39m0\u001b[39m)\n",
      "File \u001b[1;32mc:\\Users\\enish\\anaconda3\\lib\\site-packages\\sklearn\\ensemble\\_forest.py:874\u001b[0m, in \u001b[0;36mForestClassifier.predict_proba\u001b[1;34m(self, X)\u001b[0m\n\u001b[0;32m    872\u001b[0m check_is_fitted(\u001b[39mself\u001b[39m)\n\u001b[0;32m    873\u001b[0m \u001b[39m# Check data\u001b[39;00m\n\u001b[1;32m--> 874\u001b[0m X \u001b[39m=\u001b[39m \u001b[39mself\u001b[39;49m\u001b[39m.\u001b[39;49m_validate_X_predict(X)\n\u001b[0;32m    876\u001b[0m \u001b[39m# Assign chunk of trees to jobs\u001b[39;00m\n\u001b[0;32m    877\u001b[0m n_jobs, _, _ \u001b[39m=\u001b[39m _partition_estimators(\u001b[39mself\u001b[39m\u001b[39m.\u001b[39mn_estimators, \u001b[39mself\u001b[39m\u001b[39m.\u001b[39mn_jobs)\n",
      "File \u001b[1;32mc:\\Users\\enish\\anaconda3\\lib\\site-packages\\sklearn\\ensemble\\_forest.py:605\u001b[0m, in \u001b[0;36mBaseForest._validate_X_predict\u001b[1;34m(self, X)\u001b[0m\n\u001b[0;32m    602\u001b[0m \u001b[39m\"\"\"\u001b[39;00m\n\u001b[0;32m    603\u001b[0m \u001b[39mValidate X whenever one tries to predict, apply, predict_proba.\"\"\"\u001b[39;00m\n\u001b[0;32m    604\u001b[0m check_is_fitted(\u001b[39mself\u001b[39m)\n\u001b[1;32m--> 605\u001b[0m X \u001b[39m=\u001b[39m \u001b[39mself\u001b[39;49m\u001b[39m.\u001b[39;49m_validate_data(X, dtype\u001b[39m=\u001b[39;49mDTYPE, accept_sparse\u001b[39m=\u001b[39;49m\u001b[39m\"\u001b[39;49m\u001b[39mcsr\u001b[39;49m\u001b[39m\"\u001b[39;49m, reset\u001b[39m=\u001b[39;49m\u001b[39mFalse\u001b[39;49;00m)\n\u001b[0;32m    606\u001b[0m \u001b[39mif\u001b[39;00m issparse(X) \u001b[39mand\u001b[39;00m (X\u001b[39m.\u001b[39mindices\u001b[39m.\u001b[39mdtype \u001b[39m!=\u001b[39m np\u001b[39m.\u001b[39mintc \u001b[39mor\u001b[39;00m X\u001b[39m.\u001b[39mindptr\u001b[39m.\u001b[39mdtype \u001b[39m!=\u001b[39m np\u001b[39m.\u001b[39mintc):\n\u001b[0;32m    607\u001b[0m     \u001b[39mraise\u001b[39;00m \u001b[39mValueError\u001b[39;00m(\u001b[39m\"\u001b[39m\u001b[39mNo support for np.int64 index based sparse matrices\u001b[39m\u001b[39m\"\u001b[39m)\n",
      "File \u001b[1;32mc:\\Users\\enish\\anaconda3\\lib\\site-packages\\sklearn\\base.py:577\u001b[0m, in \u001b[0;36mBaseEstimator._validate_data\u001b[1;34m(self, X, y, reset, validate_separately, **check_params)\u001b[0m\n\u001b[0;32m    575\u001b[0m     \u001b[39mraise\u001b[39;00m \u001b[39mValueError\u001b[39;00m(\u001b[39m\"\u001b[39m\u001b[39mValidation should be done on X, y or both.\u001b[39m\u001b[39m\"\u001b[39m)\n\u001b[0;32m    576\u001b[0m \u001b[39melif\u001b[39;00m \u001b[39mnot\u001b[39;00m no_val_X \u001b[39mand\u001b[39;00m no_val_y:\n\u001b[1;32m--> 577\u001b[0m     X \u001b[39m=\u001b[39m check_array(X, input_name\u001b[39m=\u001b[39m\u001b[39m\"\u001b[39m\u001b[39mX\u001b[39m\u001b[39m\"\u001b[39m, \u001b[39m*\u001b[39m\u001b[39m*\u001b[39mcheck_params)\n\u001b[0;32m    578\u001b[0m     out \u001b[39m=\u001b[39m X\n\u001b[0;32m    579\u001b[0m \u001b[39melif\u001b[39;00m no_val_X \u001b[39mand\u001b[39;00m \u001b[39mnot\u001b[39;00m no_val_y:\n",
      "File \u001b[1;32mc:\\Users\\enish\\anaconda3\\lib\\site-packages\\sklearn\\utils\\validation.py:822\u001b[0m, in \u001b[0;36mcheck_array\u001b[1;34m(array, accept_sparse, accept_large_sparse, dtype, order, copy, force_all_finite, ensure_2d, allow_nd, ensure_min_samples, ensure_min_features, estimator, input_name)\u001b[0m\n\u001b[0;32m    820\u001b[0m \u001b[39mif\u001b[39;00m sp\u001b[39m.\u001b[39missparse(array):\n\u001b[0;32m    821\u001b[0m     _ensure_no_complex_data(array)\n\u001b[1;32m--> 822\u001b[0m     array \u001b[39m=\u001b[39m _ensure_sparse_format(\n\u001b[0;32m    823\u001b[0m         array,\n\u001b[0;32m    824\u001b[0m         accept_sparse\u001b[39m=\u001b[39;49maccept_sparse,\n\u001b[0;32m    825\u001b[0m         dtype\u001b[39m=\u001b[39;49mdtype,\n\u001b[0;32m    826\u001b[0m         copy\u001b[39m=\u001b[39;49mcopy,\n\u001b[0;32m    827\u001b[0m         force_all_finite\u001b[39m=\u001b[39;49mforce_all_finite,\n\u001b[0;32m    828\u001b[0m         accept_large_sparse\u001b[39m=\u001b[39;49maccept_large_sparse,\n\u001b[0;32m    829\u001b[0m         estimator_name\u001b[39m=\u001b[39;49mestimator_name,\n\u001b[0;32m    830\u001b[0m         input_name\u001b[39m=\u001b[39;49minput_name,\n\u001b[0;32m    831\u001b[0m     )\n\u001b[0;32m    832\u001b[0m \u001b[39melse\u001b[39;00m:\n\u001b[0;32m    833\u001b[0m     \u001b[39m# If np.array(..) gives ComplexWarning, then we convert the warning\u001b[39;00m\n\u001b[0;32m    834\u001b[0m     \u001b[39m# to an error. This is needed because specifying a non complex\u001b[39;00m\n\u001b[0;32m    835\u001b[0m     \u001b[39m# dtype to the function converts complex to real dtype,\u001b[39;00m\n\u001b[0;32m    836\u001b[0m     \u001b[39m# thereby passing the test made in the lines following the scope\u001b[39;00m\n\u001b[0;32m    837\u001b[0m     \u001b[39m# of warnings context manager.\u001b[39;00m\n\u001b[0;32m    838\u001b[0m     \u001b[39mwith\u001b[39;00m warnings\u001b[39m.\u001b[39mcatch_warnings():\n",
      "File \u001b[1;32mc:\\Users\\enish\\anaconda3\\lib\\site-packages\\sklearn\\utils\\validation.py:551\u001b[0m, in \u001b[0;36m_ensure_sparse_format\u001b[1;34m(spmatrix, accept_sparse, dtype, copy, force_all_finite, accept_large_sparse, estimator_name, input_name)\u001b[0m\n\u001b[0;32m    546\u001b[0m         warnings\u001b[39m.\u001b[39mwarn(\n\u001b[0;32m    547\u001b[0m             \u001b[39m\"\u001b[39m\u001b[39mCan\u001b[39m\u001b[39m'\u001b[39m\u001b[39mt check \u001b[39m\u001b[39m%s\u001b[39;00m\u001b[39m sparse matrix for nan or inf.\u001b[39m\u001b[39m\"\u001b[39m \u001b[39m%\u001b[39m spmatrix\u001b[39m.\u001b[39mformat,\n\u001b[0;32m    548\u001b[0m             stacklevel\u001b[39m=\u001b[39m\u001b[39m2\u001b[39m,\n\u001b[0;32m    549\u001b[0m         )\n\u001b[0;32m    550\u001b[0m     \u001b[39melse\u001b[39;00m:\n\u001b[1;32m--> 551\u001b[0m         _assert_all_finite(\n\u001b[0;32m    552\u001b[0m             spmatrix\u001b[39m.\u001b[39;49mdata,\n\u001b[0;32m    553\u001b[0m             allow_nan\u001b[39m=\u001b[39;49mforce_all_finite \u001b[39m==\u001b[39;49m \u001b[39m\"\u001b[39;49m\u001b[39mallow-nan\u001b[39;49m\u001b[39m\"\u001b[39;49m,\n\u001b[0;32m    554\u001b[0m             estimator_name\u001b[39m=\u001b[39;49mestimator_name,\n\u001b[0;32m    555\u001b[0m             input_name\u001b[39m=\u001b[39;49minput_name,\n\u001b[0;32m    556\u001b[0m         )\n\u001b[0;32m    558\u001b[0m \u001b[39mreturn\u001b[39;00m spmatrix\n",
      "File \u001b[1;32mc:\\Users\\enish\\anaconda3\\lib\\site-packages\\sklearn\\utils\\validation.py:146\u001b[0m, in \u001b[0;36m_assert_all_finite\u001b[1;34m(X, allow_nan, msg_dtype, estimator_name, input_name)\u001b[0m\n\u001b[0;32m    124\u001b[0m         \u001b[39mif\u001b[39;00m (\n\u001b[0;32m    125\u001b[0m             \u001b[39mnot\u001b[39;00m allow_nan\n\u001b[0;32m    126\u001b[0m             \u001b[39mand\u001b[39;00m estimator_name\n\u001b[1;32m   (...)\u001b[0m\n\u001b[0;32m    130\u001b[0m             \u001b[39m# Improve the error message on how to handle missing values in\u001b[39;00m\n\u001b[0;32m    131\u001b[0m             \u001b[39m# scikit-learn.\u001b[39;00m\n\u001b[0;32m    132\u001b[0m             msg_err \u001b[39m+\u001b[39m\u001b[39m=\u001b[39m (\n\u001b[0;32m    133\u001b[0m                 \u001b[39mf\u001b[39m\u001b[39m\"\u001b[39m\u001b[39m\\n\u001b[39;00m\u001b[39m{\u001b[39;00mestimator_name\u001b[39m}\u001b[39;00m\u001b[39m does not accept missing values\u001b[39m\u001b[39m\"\u001b[39m\n\u001b[0;32m    134\u001b[0m                 \u001b[39m\"\u001b[39m\u001b[39m encoded as NaN natively. For supervised learning, you might want\u001b[39m\u001b[39m\"\u001b[39m\n\u001b[1;32m   (...)\u001b[0m\n\u001b[0;32m    144\u001b[0m                 \u001b[39m\"\u001b[39m\u001b[39m#estimators-that-handle-nan-values\u001b[39m\u001b[39m\"\u001b[39m\n\u001b[0;32m    145\u001b[0m             )\n\u001b[1;32m--> 146\u001b[0m         \u001b[39mraise\u001b[39;00m \u001b[39mValueError\u001b[39;00m(msg_err)\n\u001b[0;32m    148\u001b[0m \u001b[39m# for object dtype data, we only check for NaNs (GH-13254)\u001b[39;00m\n\u001b[0;32m    149\u001b[0m \u001b[39melif\u001b[39;00m X\u001b[39m.\u001b[39mdtype \u001b[39m==\u001b[39m np\u001b[39m.\u001b[39mdtype(\u001b[39m\"\u001b[39m\u001b[39mobject\u001b[39m\u001b[39m\"\u001b[39m) \u001b[39mand\u001b[39;00m \u001b[39mnot\u001b[39;00m allow_nan:\n",
      "\u001b[1;31mValueError\u001b[0m: Input X contains NaN.\nRandomForestClassifier does not accept missing values encoded as NaN natively. For supervised learning, you might want to consider sklearn.ensemble.HistGradientBoostingClassifier and Regressor which accept missing values encoded as NaNs natively. Alternatively, it is possible to preprocess the data, for instance by using an imputer transformer in a pipeline or drop samples with missing values. See https://scikit-learn.org/stable/modules/impute.html You can find a list of all estimators that handle NaN values at the following page: https://scikit-learn.org/stable/modules/impute.html#estimators-that-handle-nan-values"
     ]
    }
   ],
   "source": [
    "from pickle import load\n",
    "\n",
    "yuklenen_model = joblib.load(filename)\n",
    "sonuc = yuklenen_model.score(X2, y2)\n",
    "print(sonuc)"
   ]
  }
 ],
 "metadata": {
  "interpreter": {
   "hash": "8ecda2f16923e8e6d2346aa7103ce9babb2adbf425e05cf409f03c333cbf1ad5"
  },
  "kernelspec": {
   "display_name": "Python 3.9.12 ('base')",
   "language": "python",
   "name": "python3"
  },
  "language_info": {
   "codemirror_mode": {
    "name": "ipython",
    "version": 3
   },
   "file_extension": ".py",
   "mimetype": "text/x-python",
   "name": "python",
   "nbconvert_exporter": "python",
   "pygments_lexer": "ipython3",
   "version": "3.9.12"
  },
  "orig_nbformat": 4
 },
 "nbformat": 4,
 "nbformat_minor": 2
}
